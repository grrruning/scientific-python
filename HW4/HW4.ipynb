{
  "nbformat": 4,
  "nbformat_minor": 0,
  "metadata": {
    "colab": {
      "name": "HW4.ipynb",
      "provenance": [],
      "authorship_tag": "ABX9TyPN1E3VMpLA8MmDFWzmOTXQ",
      "include_colab_link": true
    },
    "kernelspec": {
      "name": "python3",
      "display_name": "Python 3"
    },
    "language_info": {
      "name": "python"
    }
  },
  "cells": [
    {
      "cell_type": "markdown",
      "metadata": {
        "id": "view-in-github",
        "colab_type": "text"
      },
      "source": [
        "<a href=\"https://colab.research.google.com/github/grrruning/scientific-python/blob/main/HW4/HW4.ipynb\" target=\"_parent\"><img src=\"https://colab.research.google.com/assets/colab-badge.svg\" alt=\"Open In Colab\"/></a>"
      ]
    },
    {
      "cell_type": "code",
      "metadata": {
        "colab": {
          "base_uri": "https://localhost:8080/"
        },
        "id": "JV5gVJY3PdzD",
        "outputId": "64c64f57-6e0d-4d22-a2dc-7841fd0b692f"
      },
      "source": [
        "# 1\n",
        "'''\n",
        "Let's remeber how to use dictionaries.\n",
        "Task: return a dictionary where \n",
        "    * keys are IDs of seqs from an input fasta file (prot.fasta),\n",
        "    * key's values are seqs itself. \n",
        "'''\n",
        "\n",
        "def my_own_fasta_parser(inFile):\n",
        "\n",
        "    sequences = {}\n",
        "\n",
        "    with open(inFile) as file:\n",
        "        for line in file:\n",
        "           \n",
        "            line = line.strip('\\n')\n",
        "            if line.startswith('>'): \n",
        "                \n",
        "                 seq_id = line[1:] \n",
        "            else:\n",
        "                sequences[seq_id] = line \n",
        "\n",
        "    return sequences\n",
        "\n",
        "my_own_fasta_parser('prot.fasta')"
      ],
      "execution_count": null,
      "outputs": [
        {
          "output_type": "execute_result",
          "data": {
            "text/plain": [
              "{'seq0': 'FQTWEEFSRAAEKLYLADPMKVRVVLKYRHVDGNLCIKVTDDLVCLVYRTDQAQDVKKIEKF',\n",
              " 'seq1': 'KYRTWEEFTRAAEKLYQADPMKVRVVLKYRHCDGNLCIKVTDDVVCLLYRTDQAQDVKKIEKFHSQLMRLME LKVTDNKECLKFKTDQAQEAKKMEKLNNIFFTLM',\n",
              " 'seq10': 'FDSWDEFVSKSVELFRNHPDTTRYVVKYRHCEGKLVLKVTDNHECLKFKTDQAQDAKKMEK',\n",
              " 'seq2': 'EEYQTWEEFARAAEKLYLTDPMKVRVVLKYRHCDGNLCMKVTDDAVCLQYKTDQAQDVKKVEKLHGK',\n",
              " 'seq3': 'MYQVWEEFSRAVEKLYLTDPMKVRVVLKYRHCDGNLCIKVTDNSVCLQYKTDQAQDVK',\n",
              " 'seq4': 'EEFSRAVEKLYLTDPMKVRVVLKYRHCDGNLCIKVTDNSVVSYEMRLFGVQKDNFALEHSLL',\n",
              " 'seq5': 'SWEEFAKAAEVLYLEDPMKCRMCTKYRHVDHKLVVKLTDNHTVLKYVTDMAQDVKKIEKLTTLLMR',\n",
              " 'seq6': 'FTNWEEFAKAAERLHSANPEKCRFVTKYNHTKGELVLKLTDDVVCLQYSTNQLQDVKKLEKLSSTLLRSI',\n",
              " 'seq7': 'SWEEFVERSVQLFRGDPNATRYVMKYRHCEGKLVLKVTDDRECLKFKTDQAQDAKKMEKLNNIFF',\n",
              " 'seq8': 'SWDEFVDRSVQLFRADPESTRYVMKYRHCDGKLVLKVTDNKECLKFKTDQAQEAKKMEKLNNIFFTLM',\n",
              " 'seq9': 'KNWEDFEIAAENMYMANPQNCRYTMKYVHSKGHILLKMSDNVKCVQYRAENMPDLKK'}"
            ]
          },
          "metadata": {
            "tags": []
          },
          "execution_count": 16
        }
      ]
    },
    {
      "cell_type": "code",
      "metadata": {
        "colab": {
          "base_uri": "https://localhost:8080/"
        },
        "id": "A9ruOxWSgtjp",
        "outputId": "e424fe30-51c7-4bb8-d85d-cc6a8b99cda6"
      },
      "source": [
        "# 2\n",
        "'''\n",
        "Another super easy task.\n",
        "\n",
        "We have the same fasta file (prot.fasta).\n",
        "Now we want to get a list with the ids of protein seqs that have \n",
        "a relative frequency higher than a given threshold for a given residue.\n",
        "\n",
        "And don't forget to use my_own_fasta_parser function from a previous task!\n",
        "'''\n",
        "\n",
        "def my_own_residue_abundance(input_file, residue, threshold=0.035):\n",
        "    \n",
        "    seq = []\n",
        "    sequences = my_own_fasta_parser('prot.fasta')\n",
        "\n",
        "    for seq_id, sequence in sequences.items():\n",
        "        frequency = sequence.count(residue)/len(sequence)\n",
        "        print(frequency)\n",
        "        if frequency > threshold:\n",
        "            seq.append(seq_id)\n",
        "\n",
        "    return seq\n",
        "my_own_residue_abundance('prot.fasta','C')"
      ],
      "execution_count": null,
      "outputs": [
        {
          "output_type": "stream",
          "text": [
            "0.03225806451612903\n",
            "0.037383177570093455\n",
            "0.04477611940298507\n",
            "0.05172413793103448\n",
            "0.03225806451612903\n",
            "0.030303030303030304\n",
            "0.02857142857142857\n",
            "0.03076923076923077\n",
            "0.029411764705882353\n",
            "0.03508771929824561\n",
            "0.03278688524590164\n"
          ],
          "name": "stdout"
        },
        {
          "output_type": "execute_result",
          "data": {
            "text/plain": [
              "['seq1', 'seq2', 'seq3', 'seq9']"
            ]
          },
          "metadata": {
            "tags": []
          },
          "execution_count": 41
        }
      ]
    },
    {
      "cell_type": "code",
      "metadata": {
        "id": "HIEzH8Bd15kh"
      },
      "source": [
        "!pip install Bio\n",
        "from Bio import SeqIO, SeqUtils \n",
        "from Bio.SeqUtils.ProtParam import ProteinAnalysis\n",
        "from Bio.SeqRecord import SeqRecord"
      ],
      "execution_count": null,
      "outputs": []
    },
    {
      "cell_type": "code",
      "metadata": {
        "colab": {
          "base_uri": "https://localhost:8080/"
        },
        "id": "FGG13HXO1jVt",
        "outputId": "d18f689d-99fc-4301-ddb1-951aa60e7b0c"
      },
      "source": [
        "# 3\n",
        "'''\n",
        "Let's practice in Bio package using.\n",
        "Task:\n",
        "1. read fasta file containing several DNA seqs (nucl.fasta)\n",
        "2. subset seqs that have GC content > 45 and coding protein with aromaticity > 0.01\n",
        "3. write a new fasta file with those protein(!) seqs\n",
        "4. return the percentage of seqs that passed your filter\n",
        "Hint: Bio.SeqIO, Bio.SeqRecord, Bio.SeqUtils\n",
        "'''\n",
        "\n",
        "\n",
        "def my_own_filtering(input_file, output_file, filt_gc = 45, filt_arom = 0.01):\n",
        "    \n",
        "    sequences = {}\n",
        "    c = 0\n",
        "    \n",
        "    with open(input_file, \"r\") as content:\n",
        "        \n",
        "        for record in SeqIO.parse(content, \"fasta\"):\n",
        "            c += 1\n",
        "            \n",
        "            # calculate GC content using Bio\n",
        "            calc_gc = SeqUtils.GC(record.seq)\n",
        "            \n",
        "            # calculate aromaticity using Bio\n",
        "            protein = record.seq.translate()\n",
        "            calc_arom = ProteinAnalysis(str(protein)).aromaticity()\n",
        "            \n",
        "            # so, now you can filter\n",
        "            if calc_gc >= filt_gc and calc_arom >= filt_arom:\n",
        "                sequences[record.id] = record.seq\n",
        "    \n",
        "    # write a new fasta file with aminoacids\n",
        "   # records = []\n",
        "\n",
        "    with open(output_file, \"w\") as file:\n",
        "        for seq_id, seq in sequences.items():\n",
        "            #file.write(f\">{seq_id}\\n{seq}\\n\")\n",
        "           \n",
        "            file.write(f\">{seq_id}\\n{seq}\\n\")\n",
        "\n",
        "    print(100 * len(sequences) / c)\n",
        "    \n",
        "my_own_filtering('nucl.fasta', 'output.fasta')\n"
      ],
      "execution_count": 66,
      "outputs": [
        {
          "output_type": "stream",
          "text": [
            "28.571428571428573\n"
          ],
          "name": "stdout"
        },
        {
          "output_type": "stream",
          "text": [
            "/usr/local/lib/python3.7/dist-packages/Bio/Seq.py:2338: BiopythonWarning: Partial codon, len(sequence) not a multiple of three. Explicitly trim the sequence or add trailing N before translation. This may become an error in future.\n",
            "  BiopythonWarning,\n"
          ],
          "name": "stderr"
        }
      ]
    },
    {
      "cell_type": "code",
      "metadata": {
        "colab": {
          "base_uri": "https://localhost:8080/"
        },
        "id": "YYICYiUt6KV_",
        "outputId": "b350efd9-cb97-478e-c224-0342a59b3428"
      },
      "source": [
        "with open('output.fasta') as file:\n",
        "    for line in file:\n",
        "        print(line)"
      ],
      "execution_count": 67,
      "outputs": [
        {
          "output_type": "stream",
          "text": [
            ">id5\n",
            "\n",
            "ATTAGCTTTGCTAGGCCAAGGCATG\n",
            "\n",
            ">id6\n",
            "\n",
            "GCGCGTTTTTAGCGTACCAATGCCGCAA\n",
            "\n"
          ],
          "name": "stdout"
        }
      ]
    },
    {
      "cell_type": "code",
      "metadata": {
        "id": "lK43G-FI7qZA"
      },
      "source": [
        "\"\"\"\n",
        "Continue practicing in Bio package using:\n",
        "Task:\n",
        "complete the following code that should be able to return \n",
        "the best alignment of two amino acid seqs (pairwise2.align.globalds)\n",
        "based on BLOSUM62 matrix from Bio.SubsMat.MatrixInfo.\n",
        "http://rosalind.info/glossary/blosum62/\n",
        "\"\"\"\n",
        "\n",
        "import #<<<<<<<<<<...>>>>>>>>>>>\n",
        "\n",
        "def balign(first_seq, second_seq, #<<<<<<<<<<...>>>>>>>>>>>):\n",
        "\n",
        "    # Load the matrix\n",
        "    matrix = matlist.blosum62\n",
        "\n",
        "    # Generate the alignments\n",
        "    alns = pairwise2#<<<<<<<<<<...>>>>>>>>>>>\n",
        "\n",
        "    # Extract the best alignment (first one in the alns list)\n",
        "    top_aln = #<<<<<<<<<<...>>>>>>>>>>>\n",
        "\n",
        "    # Print the alignment, ...\n",
        "    aln_A, aln_B, score, begin, end = #<<<<<<<<<<...>>>>>>>>>>>\n",
        "    #<<<<<<<<<<...>>>>>>>>>>>"
      ],
      "execution_count": null,
      "outputs": []
    },
    {
      "cell_type": "code",
      "metadata": {
        "id": "1AzzkW2T8I5Y"
      },
      "source": [
        "\n",
        "from Bio import pairwise2\n",
        "from Bio.SubsMat import MatrixInfo as matlist\n",
        "\n",
        "def balign(first_seq, second_seq, open=-10, extend = -1):\n",
        "\n",
        "    # Load the matrix\n",
        "    matrix = matlist.blosum62\n",
        "\n",
        "    # Generate the alignments\n",
        "    alns = pairwise2.align.globalds(first_seq, second_seq, matrix, open, extend)\n",
        "    # Extract the best alignment (first one in the alns list)\n",
        "    top_aln = alns[0] \n",
        "\n",
        "    # Print the alignment, ...\n",
        "    aln_A, aln_B, score, begin, end = top_aln\n",
        "    print(pairwise2.format_alignment(aln_A, aln_B, score, begin, end))"
      ],
      "execution_count": 71,
      "outputs": []
    },
    {
      "cell_type": "code",
      "metadata": {
        "colab": {
          "base_uri": "https://localhost:8080/"
        },
        "id": "nAqwZVib8YqX",
        "outputId": "ecae313a-8b14-4935-97d7-d389cf93ba5b"
      },
      "source": [
        "balign('AATTG', 'ATG')"
      ],
      "execution_count": 73,
      "outputs": [
        {
          "output_type": "stream",
          "text": [
            "AATTG\n",
            "|  ||\n",
            "A--TG\n",
            "  Score=4\n",
            "\n"
          ],
          "name": "stdout"
        }
      ]
    },
    {
      "cell_type": "code",
      "metadata": {
        "colab": {
          "base_uri": "https://localhost:8080/"
        },
        "id": "1V95IycP9vOr",
        "outputId": "d1b4e36f-0ae7-4adf-8b09-ddb9a1c8f7c7"
      },
      "source": [
        "balign('AATGGTTGCCA', 'ATGCCCA')"
      ],
      "execution_count": 74,
      "outputs": [
        {
          "output_type": "stream",
          "text": [
            "AATGGTTGCC-A\n",
            "|     |||| |\n",
            "A-----TGCCCA\n",
            "  Score=13\n",
            "\n"
          ],
          "name": "stdout"
        }
      ]
    },
    {
      "cell_type": "code",
      "metadata": {
        "colab": {
          "base_uri": "https://localhost:8080/"
        },
        "id": "0CYzc2bJ90sK",
        "outputId": "9c814726-20fa-4e17-e2dc-1fb92c6663a9"
      },
      "source": [
        "# 5\n",
        "\"\"\" You have some DNA sequence: AGTACTAGAGCATTCTATGGAG.\n",
        "Find out which peptides could be created from it and sort them by their length.\n",
        "Use as much Biopython modules as possible.\n",
        "\"\"\"\n",
        "\n",
        "def collect_peptides(dna_in):\n",
        "    peptides = []\n",
        "    cod_dna = Seq(dna_in)\n",
        "    compl_dna = cod_dna.reverse_complement()\n",
        "   \n",
        "   \n",
        "    for i in range(len(dna_in)):\n",
        "        seq = str(cod_dna[i:].translate(to_stop=True))\n",
        "        if len(seq) >1:\n",
        "            peptides.append(seq)\n",
        "   \n",
        "\n",
        "    for i in range(len(dna_in)):\n",
        "        q = str((compl_dna[i:]).translate(to_stop=True))\n",
        "        if len(q) >1:\n",
        "            peptides.append(q)\n",
        "           \n",
        "  \n",
        "\n",
        "\n",
        "    peptides.sort(key = len)\n",
        "    return(peptides)\n",
        "\n",
        "collect_peptides('AGTACTAGAGCATTCTATGGAG')"
      ],
      "execution_count": 111,
      "outputs": [
        {
          "output_type": "stream",
          "text": [
            "/usr/local/lib/python3.7/dist-packages/Bio/Seq.py:2338: BiopythonWarning: Partial codon, len(sequence) not a multiple of three. Explicitly trim the sequence or add trailing N before translation. This may become an error in future.\n",
            "  BiopythonWarning,\n"
          ],
          "name": "stderr"
        },
        {
          "output_type": "execute_result",
          "data": {
            "text/plain": [
              "['LW',\n",
              " 'YG',\n",
              " 'ME',\n",
              " 'ML',\n",
              " 'LV',\n",
              " 'ST',\n",
              " 'ILW',\n",
              " 'FYG',\n",
              " 'SME',\n",
              " 'RML',\n",
              " 'ALV',\n",
              " 'SST',\n",
              " 'SILW',\n",
              " 'AFYG',\n",
              " 'HSME',\n",
              " 'HRML',\n",
              " 'NALV',\n",
              " 'CSST',\n",
              " 'RAFYG',\n",
              " 'EHSME',\n",
              " 'LHRML',\n",
              " 'ECSST',\n",
              " 'TRAFYG',\n",
              " 'LEHSME',\n",
              " 'IECSST',\n",
              " 'STRAFYG',\n",
              " 'VLEHSME',\n",
              " 'SIECSST']"
            ]
          },
          "metadata": {
            "tags": []
          },
          "execution_count": 111
        }
      ]
    },
    {
      "cell_type": "code",
      "metadata": {
        "colab": {
          "base_uri": "https://localhost:8080/",
          "height": 35
        },
        "id": "g7T6AMWZJwIe",
        "outputId": "8c7489da-df0c-47fd-d767-7e337c33eec8"
      },
      "source": [
        "\"\"\" TASK: Try to create one-line function (without (!!!) using Bio package) \n",
        "that returns reverse complementary to a given sequence. \n",
        "Hint: using dictionaty & list comprehensions might be helpful.\n",
        "\"\"\"\n",
        "\n",
        "def rev_compl_one_line(seq):\n",
        "    return \"\".join(reversed([{\"A\":\"T\", \"T\":\"A\", \"G\":\"C\", \"C\":\"G\"}[x] for x in seq]))\n",
        "\n",
        "\n",
        "rev_compl_one_line('ACCGGTTAAT')"
      ],
      "execution_count": 116,
      "outputs": [
        {
          "output_type": "execute_result",
          "data": {
            "application/vnd.google.colaboratory.intrinsic+json": {
              "type": "string"
            },
            "text/plain": [
              "'ATTAACCGGT'"
            ]
          },
          "metadata": {
            "tags": []
          },
          "execution_count": 116
        }
      ]
    }
  ]
}