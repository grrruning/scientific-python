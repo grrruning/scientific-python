{
  "nbformat": 4,
  "nbformat_minor": 0,
  "metadata": {
    "colab": {
      "name": "Untitled11.ipynb",
      "provenance": [],
      "authorship_tag": "ABX9TyPs93A0XOD88GgoDwQHwpbO"
    },
    "kernelspec": {
      "name": "python3",
      "display_name": "Python 3"
    },
    "language_info": {
      "name": "python"
    }
  },
  "cells": [
    {
      "cell_type": "code",
      "metadata": {
        "id": "g2xgWBMTbeG5"
      },
      "source": [
        "import json"
      ],
      "execution_count": 3,
      "outputs": []
    },
    {
      "cell_type": "code",
      "metadata": {
        "id": "tch6F_TDbthi"
      },
      "source": [
        "\n",
        "def DFS(v, edge, visited):\n",
        "    for u in edge:\n",
        "        if v == u[0]:\n",
        "            if visited[u[1]] == 0:\n",
        "                visited[u[1]] = 1\n",
        "                DFS(u[1], edge, visited)\n",
        "    return(visited)"
      ],
      "execution_count": 16,
      "outputs": []
    },
    {
      "cell_type": "code",
      "metadata": {
        "id": "O2OO0mgPbuCz"
      },
      "source": [
        "def calculate_descendants(js):\n",
        "    objectt = json.loads(js)\n",
        "    graph = {}\n",
        "    res = {}\n",
        "    for i in objectt:\n",
        "        if i['name'] not in graph:\n",
        "            graph[i['name']] = list()\n",
        "        for parent in i['parents']:\n",
        "            if parent not in graph:\n",
        "                graph[parent] = list(i['name'])\n",
        "            else:\n",
        "                if i['name'] not in graph[parent]:\n",
        "                    graph[parent].append(i['name'])\n",
        "   \n",
        "    for key in graph.keys():\n",
        "        res[key] = len(dfs(graph, key, []))\n",
        "  \n",
        "\n",
        "    for key, value in sorted(res.items()):\n",
        "        print(key, value,sep = \" : \")"
      ],
      "execution_count": 35,
      "outputs": []
    },
    {
      "cell_type": "code",
      "metadata": {
        "colab": {
          "base_uri": "https://localhost:8080/"
        },
        "id": "REl0u9WDb_0c",
        "outputId": "72ab3c9e-2f64-4eeb-eafc-b74d0b13f33c"
      },
      "source": [
        "calculate_descendants(input())"
      ],
      "execution_count": 39,
      "outputs": [
        {
          "output_type": "stream",
          "text": [
            "[{\"name\": \"A\", \"parents\": []}, {\"name\": \"B\", \"parents\": [\"A\", \"C\"]}, {\"name\": \"C\", \"parents\": [\"A\"]}]\n",
            "A : 3\n",
            "B : 1\n",
            "C : 2\n"
          ],
          "name": "stdout"
        }
      ]
    },
    {
      "cell_type": "code",
      "metadata": {
        "colab": {
          "base_uri": "https://localhost:8080/"
        },
        "id": "V9W3g6Pxen7l",
        "outputId": "f778e47d-e7d2-4ab3-9460-42b1ce9ac4b5"
      },
      "source": [
        "calculate_descendants(input())"
      ],
      "execution_count": 40,
      "outputs": [
        {
          "output_type": "stream",
          "text": [
            "[{\"name\": \"B\", \"parents\": [\"A\", \"C\"]}, {\"name\": \"C\", \"parents\": [\"A\"]}, {\"name\": \"A\", \"parents\": []}, {\"name\": \"D\", \"parents\":[\"C\", \"F\"]}, {\"name\": \"E\", \"parents\":[\"D\"]}, {\"name\": \"F\", \"parents\":[]}]\n",
            "A : 5\n",
            "B : 1\n",
            "C : 4\n",
            "D : 2\n",
            "E : 1\n",
            "F : 3\n"
          ],
          "name": "stdout"
        }
      ]
    }
  ]
}