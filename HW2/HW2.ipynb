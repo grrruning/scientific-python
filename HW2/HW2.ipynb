{
  "nbformat": 4,
  "nbformat_minor": 0,
  "metadata": {
    "colab": {
      "name": "HW2.ipynb",
      "provenance": [],
      "collapsed_sections": []
    },
    "kernelspec": {
      "name": "python3",
      "display_name": "Python 3"
    },
    "language_info": {
      "name": "python"
    }
  },
  "cells": [
    {
      "cell_type": "code",
      "metadata": {
        "colab": {
          "base_uri": "https://localhost:8080/"
        },
        "id": "Jlp0RIidEt2k",
        "outputId": "890ac12a-5a75-4679-ca75-75514a1596fd"
      },
      "source": [
        "def gc_content(pattern):\n",
        "  at = gc =0\n",
        "  for p in pattern:\n",
        "    if p == \"A\" or p == \"T\":\n",
        "        at = at+1\n",
        "    if p==\"G\" or p==\"C\":\n",
        "        gc = gc+1\n",
        "  return(at,gc)\n",
        "\n",
        "def calculation(at,gc,length,prob):\n",
        "  at_p = (1-prob)/2\n",
        "  gc_p = (prob)/2\n",
        "  k = 1-((at_p**at)*(gc_p**gc))\n",
        "  answer = round(1-(k**length),3)\n",
        "  return(answer)\n",
        "    \n",
        "if __name__ == \"__main__\":\n",
        "  length,prob = input().split()\n",
        "  length = int(length)\n",
        "  prob = float(prob)\n",
        "  pattern = input()\n",
        "  at,gc = gc_content(pattern)\n",
        "  print(calculation(at,gc,length,prob))\n"
      ],
      "execution_count": 6,
      "outputs": [
        {
          "output_type": "stream",
          "text": [
            "90000 0.6\n",
            "ATAGCCGA\n",
            "0.689\n"
          ],
          "name": "stdout"
        }
      ]
    }
  ]
}