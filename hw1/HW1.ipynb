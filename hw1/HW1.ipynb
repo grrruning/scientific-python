{
  "nbformat": 4,
  "nbformat_minor": 0,
  "metadata": {
    "colab": {
      "name": "HW1.ipynb",
      "provenance": []
    },
    "kernelspec": {
      "name": "python3",
      "display_name": "Python 3"
    },
    "language_info": {
      "name": "python"
    }
  },
  "cells": [
    {
      "cell_type": "code",
      "metadata": {
        "colab": {
          "base_uri": "https://localhost:8080/"
        },
        "id": "g0-Gnzqk6WPg",
        "outputId": "aadca0bf-cef2-463a-b13f-890152533170"
      },
      "source": [
        "#1\n",
        "import re\n",
        "ls = [\"aaaaa\", \"abba\", \"acccca\"]\n",
        "for word in ls:\n",
        "  print(re.sub(r\"([a-zA-Z])\\1+\", r\"\\1\", word))"
      ],
      "execution_count": null,
      "outputs": [
        {
          "output_type": "stream",
          "text": [
            "a\n",
            "aba\n",
            "aca\n"
          ],
          "name": "stdout"
        }
      ]
    },
    {
      "cell_type": "code",
      "metadata": {
        "colab": {
          "base_uri": "https://localhost:8080/"
        },
        "id": "xS2TgyAflXv1",
        "outputId": "75524452-c6b7-4008-bd72-14adb76d16cc"
      },
      "source": [
        "#2\n",
        "ls = [\"Mus musculus\", \"Agalma elegans\", \"Frillagalma vityazi\", \"Cordagalma tottoni\"]\n",
        "for word in ls:\n",
        "  print(re.sub(r\"([A-Z]).*?\\b\", r\"\\1.\", word))"
      ],
      "execution_count": null,
      "outputs": [
        {
          "output_type": "stream",
          "text": [
            "M. musculus\n",
            "A. elegans\n",
            "F. vityazi\n",
            "C. tottoni\n"
          ],
          "name": "stdout"
        }
      ]
    },
    {
      "cell_type": "code",
      "metadata": {
        "colab": {
          "base_uri": "https://localhost:8080/"
        },
        "id": "NWzOtDWLpfRz",
        "outputId": "069e6511-82cb-4cfa-905e-3ea17dac7186"
      },
      "source": [
        "#3\n",
        "l=[]\n",
        "ls = [\"Mus musculus (Y456)\", \"Agalma elegans (AB34) \", \"Frillagalma vityazi\", \"Cordagalma tottoni\"]\n",
        "for word in ls:\n",
        "  l.append(re.sub(r\"([A-Z])([a-z])*?\\b\", r\"\\1.\", word))\n",
        "for word in l:\n",
        "    print(re.sub('[()]', '', word))\n",
        "\n"
      ],
      "execution_count": null,
      "outputs": [
        {
          "output_type": "stream",
          "text": [
            "M. musculus Y456\n",
            "A. elegans AB34 \n",
            "F. vityazi\n",
            "C. tottoni\n"
          ],
          "name": "stdout"
        }
      ]
    },
    {
      "cell_type": "code",
      "metadata": {
        "id": "MYvgcmC_t8Gn"
      },
      "source": [
        "#4\n"
      ],
      "execution_count": null,
      "outputs": []
    },
    {
      "cell_type": "markdown",
      "metadata": {
        "id": "E_pPqHGZyE4_"
      },
      "source": [
        ">CAA84632.1 isocitrate lyase [Cucumis sativus]\n",
        "MAASFSVPSMIMEEEGRFEAEVAEVQAWWNSERFKLTRRPYTAKDVVSLRGSLRQSYASNDLAKKLWRTL\n",
        "KTHQANGTASRTFGALDPVQVTMMAKHLDTIYVSGWQCSSTHTSTNEPGPDLADYPYDTVPNKVEHLFFA\n",
        "QQYHDRKQREARMSMSREERAKTPYIDYLKPIIADGDTGFGGTTATVKLCKLFVERGAAGVHIEDQSSVT\n",
        "KKCGHMAGKVLVAVSEHINRLVAARLQFDVMGVETILVARTDAVAATLIQTNVDKRDHQFILGATNPNLR\n",
        "GKSLAGALAEAMAAGKTGAELQALEDQWISMAQLKTFSECVTDAIMNTNATENEKRRKLDEWMNHSSYEK\n",
        "CISNEQGREIAEKLGLKNLFWDWDLPRTREGFYRFKGSVMAAIVRGWAFAPHADLIWMETSSPDLVECTT\n",
        "FAKGMKSIHPETMLAYNLSPSFNWDASGMSDKQMEEFIPRIARLGFCWQFITLAGFHADALVVDTFARDY\n",
        "ARRGMLAYVERIQREERNNGVDTLAHQKWSGANYYDRYLKTVQGGISSTAAMGKGVTEEQFKESWTREGA\n",
        "VNLGEEGNVVVAKSRM\n",
        "\n",
        "pattern = K-[KR]-C-G-H-[LMQR]"
      ]
    },
    {
      "cell_type": "code",
      "metadata": {
        "colab": {
          "base_uri": "https://localhost:8080/"
        },
        "id": "O0nV66U8vcBG",
        "outputId": "fc63e3f7-3cac-4af7-ab16-c1ce2d8741b8"
      },
      "source": [
        "import re\n",
        "sequence = \"MAASFSVPSMIMEEEGRFEAEVAEVQAWWNSERFKLTRRPYTAKDVVSLRGSLRQSYASNDLAKKLWRTL KTHQANGTASRTFGALDPVQVTMMAKHLDTIYVSGWQCSSTHTSTNEPGPDLADYPYDTVPNKVEHLFFA QQYHDRKQREARMSMSREERAKTPYIDYLKPIIADGDTGFGGTTATVKLCKLFVERGAAGVHIEDQSSVT KKCGHMAGKVLVAVSEHINRLVAARLQFDVMGVETILVARTDAVAATLIQTNVDKRDHQFILGATNPNLR GKSLAGALAEAMAAGKTGAELQALEDQWISMAQLKTFSECVTDAIMNTNATENEKRRKLDEWMNHSSYEK CISNEQGREIAEKLGLKNLFWDWDLPRTREGFYRFKGSVMAAIVRGWAFAPHADLIWMETSSPDLVECTT FAKGMKSIHPETMLAYNLSPSFNWDASGMSDKQMEEFIPRIARLGFCWQFITLAGFHADALVVDTFARDY ARRGMLAYVERIQREERNNGVDTLAHQKWSGANYYDRYLKTVQGGISSTAAMGKGVTEEQFKESWTREGA VNLGEEGNVVVAKSRM\"\n",
        "name =\"CAA84632.1\"\n",
        "pattern = r\"K[KR]CGH[LMQR]\"\n",
        "res = re.search(pattern,sequence)\n",
        "print(res)\n",
        "print('Isocitrate lyase', name, 'contains its active site', res.group(), 'starting from', res.start(), 'position')\n"
      ],
      "execution_count": 9,
      "outputs": [
        {
          "output_type": "stream",
          "text": [
            "<re.Match object; span=(213, 219), match='KKCGHM'>\n",
            "Isocitrate lyase CAA84632.1 contains its active site KKCGHM starting from 213 position\n"
          ],
          "name": "stdout"
        }
      ]
    }
  ]
}