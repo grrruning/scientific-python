{
  "nbformat": 4,
  "nbformat_minor": 0,
  "metadata": {
    "colab": {
      "name": "Untitled9.ipynb",
      "provenance": [],
      "authorship_tag": "ABX9TyPR6qszqxYdDGxazlTcc5jH",
      "include_colab_link": true
    },
    "kernelspec": {
      "name": "python3",
      "display_name": "Python 3"
    },
    "language_info": {
      "name": "python"
    }
  },
  "cells": [
    {
      "cell_type": "markdown",
      "metadata": {
        "id": "view-in-github",
        "colab_type": "text"
      },
      "source": [
        "<a href=\"https://colab.research.google.com/github/grrruning/scientific-python/blob/main/Middle_test.ipynb\" target=\"_parent\"><img src=\"https://colab.research.google.com/assets/colab-badge.svg\" alt=\"Open In Colab\"/></a>"
      ]
    },
    {
      "cell_type": "markdown",
      "metadata": {
        "id": "8vVA4yjwuh2-"
      },
      "source": [
        "task1\n",
        "\n",
        "DON  \n",
        "TPA  \n",
        "NIC"
      ]
    },
    {
      "cell_type": "markdown",
      "metadata": {
        "id": "EJSIbxBt-nFO"
      },
      "source": [
        "task2"
      ]
    },
    {
      "cell_type": "code",
      "metadata": {
        "id": "M8rFDIy5ug7U",
        "colab": {
          "base_uri": "https://localhost:8080/",
          "height": 204
        },
        "outputId": "c2b4ad19-b8a8-4471-bf30-daf23f273d48"
      },
      "source": [
        "import pandas as pd\n",
        "import seaborn as sns\n",
        "\n",
        "data = pd.read_csv(\"data_for_task2.csv\")\n",
        "\n",
        "data = data.groupby(\"genus\").mean().reset_index()\n",
        "data"
      ],
      "execution_count": 38,
      "outputs": [
        {
          "output_type": "execute_result",
          "data": {
            "text/html": [
              "<div>\n",
              "<style scoped>\n",
              "    .dataframe tbody tr th:only-of-type {\n",
              "        vertical-align: middle;\n",
              "    }\n",
              "\n",
              "    .dataframe tbody tr th {\n",
              "        vertical-align: top;\n",
              "    }\n",
              "\n",
              "    .dataframe thead th {\n",
              "        text-align: right;\n",
              "    }\n",
              "</style>\n",
              "<table border=\"1\" class=\"dataframe\">\n",
              "  <thead>\n",
              "    <tr style=\"text-align: right;\">\n",
              "      <th></th>\n",
              "      <th>genus</th>\n",
              "      <th>sucrose</th>\n",
              "      <th>alanin</th>\n",
              "      <th>citrate</th>\n",
              "      <th>glucose</th>\n",
              "      <th>oleic_acid</th>\n",
              "    </tr>\n",
              "  </thead>\n",
              "  <tbody>\n",
              "    <tr>\n",
              "      <th>0</th>\n",
              "      <td>Ascophyllum</td>\n",
              "      <td>6.825467</td>\n",
              "      <td>0.875429</td>\n",
              "      <td>5.253527</td>\n",
              "      <td>3.414961</td>\n",
              "      <td>2.432526</td>\n",
              "    </tr>\n",
              "    <tr>\n",
              "      <th>1</th>\n",
              "      <td>Cladophora</td>\n",
              "      <td>4.008792</td>\n",
              "      <td>3.997055</td>\n",
              "      <td>5.288311</td>\n",
              "      <td>2.800276</td>\n",
              "      <td>2.263472</td>\n",
              "    </tr>\n",
              "    <tr>\n",
              "      <th>2</th>\n",
              "      <td>Fucus</td>\n",
              "      <td>4.355112</td>\n",
              "      <td>3.566411</td>\n",
              "      <td>4.214878</td>\n",
              "      <td>2.814803</td>\n",
              "      <td>3.367647</td>\n",
              "    </tr>\n",
              "    <tr>\n",
              "      <th>3</th>\n",
              "      <td>Palmaria</td>\n",
              "      <td>0.704580</td>\n",
              "      <td>3.176440</td>\n",
              "      <td>5.573905</td>\n",
              "      <td>3.242090</td>\n",
              "      <td>2.245538</td>\n",
              "    </tr>\n",
              "    <tr>\n",
              "      <th>4</th>\n",
              "      <td>Saccharina</td>\n",
              "      <td>4.183596</td>\n",
              "      <td>3.524207</td>\n",
              "      <td>3.346710</td>\n",
              "      <td>4.980594</td>\n",
              "      <td>4.487252</td>\n",
              "    </tr>\n",
              "  </tbody>\n",
              "</table>\n",
              "</div>"
            ],
            "text/plain": [
              "         genus   sucrose    alanin   citrate   glucose  oleic_acid\n",
              "0  Ascophyllum  6.825467  0.875429  5.253527  3.414961    2.432526\n",
              "1   Cladophora  4.008792  3.997055  5.288311  2.800276    2.263472\n",
              "2        Fucus  4.355112  3.566411  4.214878  2.814803    3.367647\n",
              "3     Palmaria  0.704580  3.176440  5.573905  3.242090    2.245538\n",
              "4   Saccharina  4.183596  3.524207  3.346710  4.980594    4.487252"
            ]
          },
          "metadata": {
            "tags": []
          },
          "execution_count": 38
        }
      ]
    },
    {
      "cell_type": "code",
      "metadata": {
        "colab": {
          "base_uri": "https://localhost:8080/",
          "height": 824
        },
        "id": "Fhjs-Keq44Vo",
        "outputId": "0dae28da-3d08-41f8-c92c-cf43f8eebab6"
      },
      "source": [
        "formatted_df = pd.melt(\n",
        "    frame = data,\n",
        "    id_vars = \"genus\")\n",
        "\n",
        "formatted_df.head(30)"
      ],
      "execution_count": 39,
      "outputs": [
        {
          "output_type": "execute_result",
          "data": {
            "text/html": [
              "<div>\n",
              "<style scoped>\n",
              "    .dataframe tbody tr th:only-of-type {\n",
              "        vertical-align: middle;\n",
              "    }\n",
              "\n",
              "    .dataframe tbody tr th {\n",
              "        vertical-align: top;\n",
              "    }\n",
              "\n",
              "    .dataframe thead th {\n",
              "        text-align: right;\n",
              "    }\n",
              "</style>\n",
              "<table border=\"1\" class=\"dataframe\">\n",
              "  <thead>\n",
              "    <tr style=\"text-align: right;\">\n",
              "      <th></th>\n",
              "      <th>genus</th>\n",
              "      <th>variable</th>\n",
              "      <th>value</th>\n",
              "    </tr>\n",
              "  </thead>\n",
              "  <tbody>\n",
              "    <tr>\n",
              "      <th>0</th>\n",
              "      <td>Ascophyllum</td>\n",
              "      <td>sucrose</td>\n",
              "      <td>6.825467</td>\n",
              "    </tr>\n",
              "    <tr>\n",
              "      <th>1</th>\n",
              "      <td>Cladophora</td>\n",
              "      <td>sucrose</td>\n",
              "      <td>4.008792</td>\n",
              "    </tr>\n",
              "    <tr>\n",
              "      <th>2</th>\n",
              "      <td>Fucus</td>\n",
              "      <td>sucrose</td>\n",
              "      <td>4.355112</td>\n",
              "    </tr>\n",
              "    <tr>\n",
              "      <th>3</th>\n",
              "      <td>Palmaria</td>\n",
              "      <td>sucrose</td>\n",
              "      <td>0.704580</td>\n",
              "    </tr>\n",
              "    <tr>\n",
              "      <th>4</th>\n",
              "      <td>Saccharina</td>\n",
              "      <td>sucrose</td>\n",
              "      <td>4.183596</td>\n",
              "    </tr>\n",
              "    <tr>\n",
              "      <th>5</th>\n",
              "      <td>Ascophyllum</td>\n",
              "      <td>alanin</td>\n",
              "      <td>0.875429</td>\n",
              "    </tr>\n",
              "    <tr>\n",
              "      <th>6</th>\n",
              "      <td>Cladophora</td>\n",
              "      <td>alanin</td>\n",
              "      <td>3.997055</td>\n",
              "    </tr>\n",
              "    <tr>\n",
              "      <th>7</th>\n",
              "      <td>Fucus</td>\n",
              "      <td>alanin</td>\n",
              "      <td>3.566411</td>\n",
              "    </tr>\n",
              "    <tr>\n",
              "      <th>8</th>\n",
              "      <td>Palmaria</td>\n",
              "      <td>alanin</td>\n",
              "      <td>3.176440</td>\n",
              "    </tr>\n",
              "    <tr>\n",
              "      <th>9</th>\n",
              "      <td>Saccharina</td>\n",
              "      <td>alanin</td>\n",
              "      <td>3.524207</td>\n",
              "    </tr>\n",
              "    <tr>\n",
              "      <th>10</th>\n",
              "      <td>Ascophyllum</td>\n",
              "      <td>citrate</td>\n",
              "      <td>5.253527</td>\n",
              "    </tr>\n",
              "    <tr>\n",
              "      <th>11</th>\n",
              "      <td>Cladophora</td>\n",
              "      <td>citrate</td>\n",
              "      <td>5.288311</td>\n",
              "    </tr>\n",
              "    <tr>\n",
              "      <th>12</th>\n",
              "      <td>Fucus</td>\n",
              "      <td>citrate</td>\n",
              "      <td>4.214878</td>\n",
              "    </tr>\n",
              "    <tr>\n",
              "      <th>13</th>\n",
              "      <td>Palmaria</td>\n",
              "      <td>citrate</td>\n",
              "      <td>5.573905</td>\n",
              "    </tr>\n",
              "    <tr>\n",
              "      <th>14</th>\n",
              "      <td>Saccharina</td>\n",
              "      <td>citrate</td>\n",
              "      <td>3.346710</td>\n",
              "    </tr>\n",
              "    <tr>\n",
              "      <th>15</th>\n",
              "      <td>Ascophyllum</td>\n",
              "      <td>glucose</td>\n",
              "      <td>3.414961</td>\n",
              "    </tr>\n",
              "    <tr>\n",
              "      <th>16</th>\n",
              "      <td>Cladophora</td>\n",
              "      <td>glucose</td>\n",
              "      <td>2.800276</td>\n",
              "    </tr>\n",
              "    <tr>\n",
              "      <th>17</th>\n",
              "      <td>Fucus</td>\n",
              "      <td>glucose</td>\n",
              "      <td>2.814803</td>\n",
              "    </tr>\n",
              "    <tr>\n",
              "      <th>18</th>\n",
              "      <td>Palmaria</td>\n",
              "      <td>glucose</td>\n",
              "      <td>3.242090</td>\n",
              "    </tr>\n",
              "    <tr>\n",
              "      <th>19</th>\n",
              "      <td>Saccharina</td>\n",
              "      <td>glucose</td>\n",
              "      <td>4.980594</td>\n",
              "    </tr>\n",
              "    <tr>\n",
              "      <th>20</th>\n",
              "      <td>Ascophyllum</td>\n",
              "      <td>oleic_acid</td>\n",
              "      <td>2.432526</td>\n",
              "    </tr>\n",
              "    <tr>\n",
              "      <th>21</th>\n",
              "      <td>Cladophora</td>\n",
              "      <td>oleic_acid</td>\n",
              "      <td>2.263472</td>\n",
              "    </tr>\n",
              "    <tr>\n",
              "      <th>22</th>\n",
              "      <td>Fucus</td>\n",
              "      <td>oleic_acid</td>\n",
              "      <td>3.367647</td>\n",
              "    </tr>\n",
              "    <tr>\n",
              "      <th>23</th>\n",
              "      <td>Palmaria</td>\n",
              "      <td>oleic_acid</td>\n",
              "      <td>2.245538</td>\n",
              "    </tr>\n",
              "    <tr>\n",
              "      <th>24</th>\n",
              "      <td>Saccharina</td>\n",
              "      <td>oleic_acid</td>\n",
              "      <td>4.487252</td>\n",
              "    </tr>\n",
              "  </tbody>\n",
              "</table>\n",
              "</div>"
            ],
            "text/plain": [
              "          genus    variable     value\n",
              "0   Ascophyllum     sucrose  6.825467\n",
              "1    Cladophora     sucrose  4.008792\n",
              "2         Fucus     sucrose  4.355112\n",
              "3      Palmaria     sucrose  0.704580\n",
              "4    Saccharina     sucrose  4.183596\n",
              "5   Ascophyllum      alanin  0.875429\n",
              "6    Cladophora      alanin  3.997055\n",
              "7         Fucus      alanin  3.566411\n",
              "8      Palmaria      alanin  3.176440\n",
              "9    Saccharina      alanin  3.524207\n",
              "10  Ascophyllum     citrate  5.253527\n",
              "11   Cladophora     citrate  5.288311\n",
              "12        Fucus     citrate  4.214878\n",
              "13     Palmaria     citrate  5.573905\n",
              "14   Saccharina     citrate  3.346710\n",
              "15  Ascophyllum     glucose  3.414961\n",
              "16   Cladophora     glucose  2.800276\n",
              "17        Fucus     glucose  2.814803\n",
              "18     Palmaria     glucose  3.242090\n",
              "19   Saccharina     glucose  4.980594\n",
              "20  Ascophyllum  oleic_acid  2.432526\n",
              "21   Cladophora  oleic_acid  2.263472\n",
              "22        Fucus  oleic_acid  3.367647\n",
              "23     Palmaria  oleic_acid  2.245538\n",
              "24   Saccharina  oleic_acid  4.487252"
            ]
          },
          "metadata": {
            "tags": []
          },
          "execution_count": 39
        }
      ]
    },
    {
      "cell_type": "code",
      "metadata": {
        "colab": {
          "base_uri": "https://localhost:8080/",
          "height": 787
        },
        "id": "ebdnKckg4ly_",
        "outputId": "64292132-487a-4cc0-c7b3-3f499fcd948a"
      },
      "source": [
        "sns.set(rc={'figure.figsize':(12,11)})\n",
        "\n",
        "g = sns.barplot(x=\"variable\",\n",
        "                y=\"value\", \n",
        "                hue=\"genus\", \n",
        "                data = formatted_df)\n",
        "\n",
        "g.set_xticklabels(g.get_xticklabels(),\n",
        "                  rotation=45)"
      ],
      "execution_count": 44,
      "outputs": [
        {
          "output_type": "execute_result",
          "data": {
            "text/plain": [
              "[Text(0, 0, 'sucrose'),\n",
              " Text(0, 0, 'alanin'),\n",
              " Text(0, 0, 'citrate'),\n",
              " Text(0, 0, 'glucose'),\n",
              " Text(0, 0, 'oleic_acid')]"
            ]
          },
          "metadata": {
            "tags": []
          },
          "execution_count": 44
        },
        {
          "output_type": "display_data",
          "data": {
            "image/png": "[encoded data removed]",
            "text/plain": [
              "<Figure size 864x792 with 1 Axes>"
            ]
          },
          "metadata": {
            "tags": []
          }
        }
      ]
    },
    {
      "cell_type": "markdown",
      "metadata": {
        "id": "S0x3-RbL-qV0"
      },
      "source": [
        "task3"
      ]
    },
    {
      "cell_type": "code",
      "metadata": {
        "colab": {
          "base_uri": "https://localhost:8080/",
          "height": 316
        },
        "id": "K21QXGMBAXiS",
        "outputId": "0ea76ca5-d1c0-414c-bc27-30164029ad0b"
      },
      "source": [
        "\n",
        "\n",
        "\n",
        "\n",
        "numbers = [1,2,3,4,5,6]\n",
        "my_iter = map(lambda x: (x % 3) == 0, numbers)\n",
        "\n",
        "a = 1\n",
        "while (a == 1):\n",
        "  b = next(my_iter)\n",
        "  print(b)\n"
      ],
      "execution_count": 65,
      "outputs": [
        {
          "output_type": "stream",
          "text": [
            "False\n",
            "False\n",
            "True\n",
            "False\n",
            "False\n",
            "True\n"
          ],
          "name": "stdout"
        },
        {
          "output_type": "error",
          "ename": "StopIteration",
          "evalue": "ignored",
          "traceback": [
            "\u001b[0;31m---------------------------------------------------------------------------\u001b[0m",
            "\u001b[0;31mStopIteration\u001b[0m                             Traceback (most recent call last)",
            "\u001b[0;32m<ipython-input-65-8320fb2d9c09>\u001b[0m in \u001b[0;36m<module>\u001b[0;34m()\u001b[0m\n\u001b[1;32m      8\u001b[0m \u001b[0ma\u001b[0m \u001b[0;34m=\u001b[0m \u001b[0;36m1\u001b[0m\u001b[0;34m\u001b[0m\u001b[0;34m\u001b[0m\u001b[0m\n\u001b[1;32m      9\u001b[0m \u001b[0;32mwhile\u001b[0m \u001b[0;34m(\u001b[0m\u001b[0ma\u001b[0m \u001b[0;34m==\u001b[0m \u001b[0;36m1\u001b[0m\u001b[0;34m)\u001b[0m\u001b[0;34m:\u001b[0m\u001b[0;34m\u001b[0m\u001b[0;34m\u001b[0m\u001b[0m\n\u001b[0;32m---> 10\u001b[0;31m   \u001b[0mb\u001b[0m \u001b[0;34m=\u001b[0m \u001b[0mnext\u001b[0m\u001b[0;34m(\u001b[0m\u001b[0mmy_iter\u001b[0m\u001b[0;34m)\u001b[0m\u001b[0;34m\u001b[0m\u001b[0;34m\u001b[0m\u001b[0m\n\u001b[0m\u001b[1;32m     11\u001b[0m   \u001b[0mprint\u001b[0m\u001b[0;34m(\u001b[0m\u001b[0mb\u001b[0m\u001b[0;34m)\u001b[0m\u001b[0;34m\u001b[0m\u001b[0;34m\u001b[0m\u001b[0m\n",
            "\u001b[0;31mStopIteration\u001b[0m: "
          ]
        }
      ]
    },
    {
      "cell_type": "code",
      "metadata": {
        "colab": {
          "base_uri": "https://localhost:8080/"
        },
        "id": "RoT64T1JIsTu",
        "outputId": "f9e7fd55-ca10-420c-e15a-eb667c7ecb61"
      },
      "source": [
        "\n",
        "numbers = [1,2,3,4,5,6]\n",
        "my_iter = map(lambda x: (x % 3) == 0, numbers)\n",
        "while (a == 1):\n",
        "  try:\n",
        "     b = next(my_iter)\n",
        "     print(b)\n",
        "\n",
        "  except StopIteration:\n",
        "    print(\"Stop iteration\")\n",
        "    break"
      ],
      "execution_count": 99,
      "outputs": [
        {
          "output_type": "stream",
          "text": [
            "False\n",
            "False\n",
            "True\n",
            "False\n",
            "False\n",
            "True\n",
            "Stop iteration\n"
          ],
          "name": "stdout"
        }
      ]
    },
    {
      "cell_type": "markdown",
      "metadata": {
        "id": "piNsy4-wBKJ2"
      },
      "source": [
        ""
      ]
    },
    {
      "cell_type": "markdown",
      "metadata": {
        "id": "XupE4OdgKBOr"
      },
      "source": [
        "task4"
      ]
    },
    {
      "cell_type": "code",
      "metadata": {
        "colab": {
          "base_uri": "https://localhost:8080/"
        },
        "id": "c81PYwhdKC74",
        "outputId": "0dcbb432-564b-4bd6-d762-66ef9c33b31b"
      },
      "source": [
        "import requests\n",
        "numbers = [22, 43, 264, 1990]\n",
        "\n",
        "base_url = \"http://numbersapi.com/\"\n",
        "nums = ','.join(str(x) for x in numbers)\n",
        "\n",
        "def get_facts(nums, fact_type):\n",
        "  headers = {'Content-Type': 'application/json'}\n",
        "  prefix = fact_type.upper() + \": \"\n",
        "  if fact_type == 'year':\n",
        "      prefix = \"HIST: \"\n",
        "\n",
        "  url = base_url + nums + \"/\" + fact_type\n",
        "  response = requests.get(url, headers=headers).json()\n",
        "  for number in response:\n",
        "    if response[number][\"found\"]:\n",
        "      yield number, prefix + response[number][\"text\"]\n",
        "\n",
        "\n",
        "for number, fact  in get_facts(nums, \"year\"):\n",
        "  print(number + \" \" + fact)\n",
        "\n",
        "\n",
        "for number, fact in get_facts(nums, \"math\"):\n",
        "  print(number + \" \" + fact)\n"
      ],
      "execution_count": 119,
      "outputs": [
        {
          "output_type": "stream",
          "text": [
            "22 HIST: 22 is the year that Marcus Cocceius Nerva and Gaius Vibius Rufinus are consuls Ex Kal.\n",
            "43 HIST: 43 is the year that the warrior Trung Sisters commit suicide after their resistance is defeated at Nam Viet in Vietnam.\n",
            "264 HIST: 264 is the year that Jiang Wei tries to restore the Kingdom of Shu by persuading Zhong Hui to declare a rebellion against Sima Zhao, ruler of Cao Wei.\n",
            "1990 HIST: 1990 is the year that the World Health Organization removes homosexuality from its list of diseases on May 17th.\n",
            "22 MATH: 22 is an even composite number, its proper divisors being 1, 2 and 11.\n",
            "43 MATH: 43 is the number of sided 7-iamonds.\n",
            "264 MATH: 264 is the largest known number whose square is undulating.\n",
            "1990 MATH: 1990 is a stella octangula number.\n"
          ],
          "name": "stdout"
        }
      ]
    },
    {
      "cell_type": "markdown",
      "metadata": {
        "id": "g5MJWCYaF9gB"
      },
      "source": [
        "Iterators require less memory, more convenient than arrays, because you do not need to work with the entire array."
      ]
    },
    {
      "cell_type": "markdown",
      "metadata": {
        "id": "GPm4oO1oGu6K"
      },
      "source": [
        "task5"
      ]
    },
    {
      "cell_type": "code",
      "metadata": {
        "colab": {
          "base_uri": "https://localhost:8080/"
        },
        "id": "X87gXqAQ7nyC",
        "outputId": "8590583b-798e-41d4-b88f-ee00fcdfb298"
      },
      "source": [
        "!pip3 install cobra"
      ],
      "execution_count": 111,
      "outputs": [
        {
          "output_type": "stream",
          "text": [
            "Collecting cobra\n",
            "\u001b[?25l  Downloading https://files.pythonhosted.org/packages/c5/04/f785d34e11b42b21c101130d60324c90f58a612f49a6f95e1747f0f05ca1/cobra-0.22.0-py2.py3-none-any.whl (2.4MB)\n",
            "\u001b[K     |████████████████████████████████| 2.4MB 6.9MB/s \n",
            "\u001b[?25hRequirement already satisfied: pandas~=1.0 in /usr/local/lib/python3.7/dist-packages (from cobra) (1.1.5)\n",
            "Collecting rich>=8.0\n",
            "\u001b[?25l  Downloading https://files.pythonhosted.org/packages/1a/da/2a1f064dc620ab47f3f826ae085384084b71ea05c8c21d67f1dfc29189ab/rich-10.1.0-py3-none-any.whl (201kB)\n",
            "\u001b[K     |████████████████████████████████| 204kB 36.5MB/s \n",
            "\u001b[?25hCollecting swiglpk\n",
            "\u001b[?25l  Downloading https://files.pythonhosted.org/packages/80/48/ff3ce61567f667629268b272d4c57f980ff0a8d4bdf991a593be12384186/swiglpk-5.0.3-cp37-cp37m-manylinux2010_x86_64.whl (2.1MB)\n",
            "\u001b[K     |████████████████████████████████| 2.1MB 38.1MB/s \n",
            "\u001b[?25hCollecting depinfo\n",
            "  Downloading https://files.pythonhosted.org/packages/af/8b/cee6dca4c4708705444c9cad9e783b9212cc51cab8a5e05ccfe930f53058/depinfo-1.7.0-py2.py3-none-any.whl\n",
            "Requirement already satisfied: numpy~=1.13 in /usr/local/lib/python3.7/dist-packages (from cobra) (1.19.5)\n",
            "Collecting optlang~=1.5\n",
            "\u001b[?25l  Downloading https://files.pythonhosted.org/packages/12/3e/9d0b72cf5a8ff660e5787a0797906e04942081f3ad4a95f860488affff2b/optlang-1.5.2-py2.py3-none-any.whl (147kB)\n",
            "\u001b[K     |████████████████████████████████| 153kB 40.0MB/s \n",
            "\u001b[?25hRequirement already satisfied: appdirs~=1.4 in /usr/local/lib/python3.7/dist-packages (from cobra) (1.4.4)\n",
            "Collecting httpx~=0.14\n",
            "\u001b[?25l  Downloading https://files.pythonhosted.org/packages/04/69/17b725b1bfe63228369cddf50206381eadb14bc46b933a864ae93ea1b9bf/httpx-0.18.1-py3-none-any.whl (75kB)\n",
            "\u001b[K     |████████████████████████████████| 81kB 8.3MB/s \n",
            "\u001b[?25hCollecting diskcache~=5.0\n",
            "\u001b[?25l  Downloading https://files.pythonhosted.org/packages/6a/5e/3deb8f9c83bead2af6f2cda97c4400516488464fede2853875a81e502953/diskcache-5.2.1-py3-none-any.whl (44kB)\n",
            "\u001b[K     |████████████████████████████████| 51kB 6.0MB/s \n",
            "\u001b[?25hRequirement already satisfied: future in /usr/local/lib/python3.7/dist-packages (from cobra) (0.16.0)\n",
            "Collecting python-libsbml==5.19.0\n",
            "\u001b[?25l  Downloading https://files.pythonhosted.org/packages/93/13/2df22b77ee9125381a00aa4dc63de1776bb84d773655d2770416e81416cd/python_libsbml-5.19.0-cp37-cp37m-manylinux1_x86_64.whl (6.2MB)\n",
            "\u001b[K     |████████████████████████████████| 6.2MB 23.0MB/s \n",
            "\u001b[?25hCollecting ruamel.yaml~=0.16\n",
            "\u001b[?25l  Downloading https://files.pythonhosted.org/packages/29/4e/c3105bbbbc662f6a671a505f00ec771e93b5254f09fbb06002af9087071a/ruamel.yaml-0.17.4-py3-none-any.whl (101kB)\n",
            "\u001b[K     |████████████████████████████████| 102kB 9.8MB/s \n",
            "\u001b[?25hCollecting pydantic~=1.6\n",
            "\u001b[?25l  Downloading https://files.pythonhosted.org/packages/2b/a3/0ffdb6c63f45f10d19b8e8b32670b22ed089cafb29732f6bf8ce518821fb/pydantic-1.8.1-cp37-cp37m-manylinux2014_x86_64.whl (10.1MB)\n",
            "\u001b[K     |████████████████████████████████| 10.1MB 32.5MB/s \n",
            "\u001b[?25hRequirement already satisfied: importlib-resources in /usr/local/lib/python3.7/dist-packages (from cobra) (5.1.2)\n",
            "Requirement already satisfied: python-dateutil>=2.7.3 in /usr/local/lib/python3.7/dist-packages (from pandas~=1.0->cobra) (2.8.1)\n",
            "Requirement already satisfied: pytz>=2017.2 in /usr/local/lib/python3.7/dist-packages (from pandas~=1.0->cobra) (2018.9)\n",
            "Collecting commonmark<0.10.0,>=0.9.0\n",
            "\u001b[?25l  Downloading https://files.pythonhosted.org/packages/b1/92/dfd892312d822f36c55366118b95d914e5f16de11044a27cf10a7d71bbbf/commonmark-0.9.1-py2.py3-none-any.whl (51kB)\n",
            "\u001b[K     |████████████████████████████████| 51kB 6.3MB/s \n",
            "\u001b[?25hCollecting colorama<0.5.0,>=0.4.0\n",
            "  Downloading https://files.pythonhosted.org/packages/44/98/5b86278fbbf250d239ae0ecb724f8572af1c91f4a11edf4d36a206189440/colorama-0.4.4-py2.py3-none-any.whl\n",
            "Requirement already satisfied: pygments<3.0.0,>=2.6.0 in /usr/local/lib/python3.7/dist-packages (from rich>=8.0->cobra) (2.6.1)\n",
            "Requirement already satisfied: typing-extensions<4.0.0,>=3.7.4 in /usr/local/lib/python3.7/dist-packages (from rich>=8.0->cobra) (3.7.4.3)\n",
            "Requirement already satisfied: importlib-metadata; python_version < \"3.8\" in /usr/local/lib/python3.7/dist-packages (from depinfo->cobra) (3.10.1)\n",
            "Requirement already satisfied: six>=1.9 in /usr/local/lib/python3.7/dist-packages (from optlang~=1.5->cobra) (1.15.0)\n",
            "Requirement already satisfied: sympy>=1.0 in /usr/local/lib/python3.7/dist-packages (from optlang~=1.5->cobra) (1.7.1)\n",
            "Collecting sniffio\n",
            "  Downloading https://files.pythonhosted.org/packages/52/b0/7b2e028b63d092804b6794595871f936aafa5e9322dcaaad50ebf67445b3/sniffio-1.2.0-py3-none-any.whl\n",
            "Requirement already satisfied: certifi in /usr/local/lib/python3.7/dist-packages (from httpx~=0.14->cobra) (2020.12.5)\n",
            "Collecting rfc3986[idna2008]<2,>=1.3\n",
            "  Downloading https://files.pythonhosted.org/packages/c4/e5/63ca2c4edf4e00657584608bee1001302bbf8c5f569340b78304f2f446cb/rfc3986-1.5.0-py2.py3-none-any.whl\n",
            "Collecting httpcore<0.14.0,>=0.13.0\n",
            "\u001b[?25l  Downloading https://files.pythonhosted.org/packages/7a/89/29a26a8086268a8043b1fd0228a463bab99990d77fdfaa8a2bd07117851a/httpcore-0.13.3-py3-none-any.whl (57kB)\n",
            "\u001b[K     |████████████████████████████████| 61kB 6.9MB/s \n",
            "\u001b[?25hCollecting ruamel.yaml.clib>=0.1.2; platform_python_implementation == \"CPython\" and python_version < \"3.10\"\n",
            "\u001b[?25l  Downloading https://files.pythonhosted.org/packages/5e/6e/f652c56bbb2c3d3fca252ffc7c0358597f57a1bbdf484dac683054950c63/ruamel.yaml.clib-0.2.2-cp37-cp37m-manylinux1_x86_64.whl (547kB)\n",
            "\u001b[K     |████████████████████████████████| 552kB 14.3MB/s \n",
            "\u001b[?25hRequirement already satisfied: zipp>=0.4; python_version < \"3.8\" in /usr/local/lib/python3.7/dist-packages (from importlib-resources->cobra) (3.4.1)\n",
            "Requirement already satisfied: mpmath>=0.19 in /usr/local/lib/python3.7/dist-packages (from sympy>=1.0->optlang~=1.5->cobra) (1.2.1)\n",
            "Requirement already satisfied: idna; extra == \"idna2008\" in /usr/local/lib/python3.7/dist-packages (from rfc3986[idna2008]<2,>=1.3->httpx~=0.14->cobra) (2.10)\n",
            "Collecting h11<0.13,>=0.11\n",
            "\u001b[?25l  Downloading https://files.pythonhosted.org/packages/60/0f/7a0eeea938eaf61074f29fed9717f2010e8d0e0905d36b38d3275a1e4622/h11-0.12.0-py3-none-any.whl (54kB)\n",
            "\u001b[K     |████████████████████████████████| 61kB 6.2MB/s \n",
            "\u001b[?25hInstalling collected packages: commonmark, colorama, rich, swiglpk, depinfo, optlang, sniffio, rfc3986, h11, httpcore, httpx, diskcache, python-libsbml, ruamel.yaml.clib, ruamel.yaml, pydantic, cobra\n",
            "Successfully installed cobra-0.22.0 colorama-0.4.4 commonmark-0.9.1 depinfo-1.7.0 diskcache-5.2.1 h11-0.12.0 httpcore-0.13.3 httpx-0.18.1 optlang-1.5.2 pydantic-1.8.1 python-libsbml-5.19.0 rfc3986-1.5.0 rich-10.1.0 ruamel.yaml-0.17.4 ruamel.yaml.clib-0.2.2 sniffio-1.2.0 swiglpk-5.0.3\n"
          ],
          "name": "stdout"
        }
      ]
    },
    {
      "cell_type": "code",
      "metadata": {
        "id": "XNZghZQA8XWD"
      },
      "source": [
        "from cobra import test\n",
        "model = test.create_test_model(\"textbook\") # Name: e_coli_core"
      ],
      "execution_count": 160,
      "outputs": []
    },
    {
      "cell_type": "markdown",
      "metadata": {
        "id": "hqtTh3IGHX59"
      },
      "source": [
        "Lets obeserve NADH production before knockout"
      ]
    },
    {
      "cell_type": "code",
      "metadata": {
        "colab": {
          "base_uri": "https://localhost:8080/"
        },
        "id": "arYE9OK3HRol",
        "outputId": "5eae2764-fcf8-452a-d690-2a17181e3b7c"
      },
      "source": [
        "model.metabolites.nadh_c.summary().producing_flux.flux.sum()\n"
      ],
      "execution_count": 161,
      "outputs": [
        {
          "output_type": "execute_result",
          "data": {
            "text/plain": [
              "38.53460965051545"
            ]
          },
          "metadata": {
            "tags": []
          },
          "execution_count": 161
        }
      ]
    },
    {
      "cell_type": "code",
      "metadata": {
        "id": "8xyXstAEDmKE"
      },
      "source": [
        "model.optimize()\n",
        "model.genes.b3236.knock_out()\n"
      ],
      "execution_count": 162,
      "outputs": []
    },
    {
      "cell_type": "markdown",
      "metadata": {
        "id": "JhbjBOtRHiN1"
      },
      "source": [
        "And after:"
      ]
    },
    {
      "cell_type": "code",
      "metadata": {
        "colab": {
          "base_uri": "https://localhost:8080/"
        },
        "id": "k5m07ObT9I5h",
        "outputId": "d4842ddf-e745-4949-8a37-3fa056287f59"
      },
      "source": [
        "model.metabolites.nadh_c.summary().producing_flux.flux.sum()"
      ],
      "execution_count": 163,
      "outputs": [
        {
          "output_type": "execute_result",
          "data": {
            "text/plain": [
              "40.35544948241886"
            ]
          },
          "metadata": {
            "tags": []
          },
          "execution_count": 163
        }
      ]
    }
  ]
}